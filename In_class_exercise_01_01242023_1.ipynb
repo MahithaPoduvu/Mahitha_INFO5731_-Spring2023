{
  "cells": [
    {
      "cell_type": "markdown",
      "metadata": {
        "id": "view-in-github",
        "colab_type": "text"
      },
      "source": [
        "<a href=\"https://colab.research.google.com/github/MahithaPoduvu/Mahitha_INFO5731_-Spring2023/blob/main/In_class_exercise_01_01242023_1.ipynb\" target=\"_parent\"><img src=\"https://colab.research.google.com/assets/colab-badge.svg\" alt=\"Open In Colab\"/></a>"
      ]
    },
    {
      "cell_type": "code",
      "source": [],
      "metadata": {
        "id": "KNKHA9PqcgdA"
      },
      "execution_count": null,
      "outputs": []
    },
    {
      "cell_type": "code",
      "source": [],
      "metadata": {
        "id": "ff-pVLGocg4k"
      },
      "execution_count": null,
      "outputs": []
    },
    {
      "cell_type": "markdown",
      "metadata": {
        "id": "DymRJbxDBCnf"
      },
      "source": [
        "# **The first In-class-exercise (01/24/2023, 40 points in total)**"
      ]
    },
    {
      "cell_type": "markdown",
      "metadata": {
        "id": "03jb4GZsBkBS"
      },
      "source": [
        "(1) Write a Python program to calculate the length of a string. (4 points)"
      ]
    },
    {
      "cell_type": "code",
      "execution_count": 2,
      "metadata": {
        "colab": {
          "base_uri": "https://localhost:8080/"
        },
        "id": "YaGLbSHHB8Ej",
        "outputId": "b29441d5-3720-4693-875b-591c59b4a865"
      },
      "outputs": [
        {
          "output_type": "stream",
          "name": "stdout",
          "text": [
            "The name of the course is x and lenght of string is 21\n"
          ]
        }
      ],
      "source": [
        "# lenght of string\n",
        "x = \"computational methods\"\n",
        "len(x)\n",
        "print(\"The name of the course is\",\"x\",\"and lenght of string is\",len(x))\n"
      ]
    },
    {
      "cell_type": "markdown",
      "metadata": {
        "id": "jJDe71iLB616"
      },
      "source": [
        "(2) Write a Python program to count the number of characters in a string. (4 points)\n",
        "\n",
        "Sample String : 'google.com‘, \n",
        "\n",
        "Expected Result : {'o': 3, 'g': 2, '.': 1, 'e': 1, 'l': 1, 'm': 1, 'c': 1}"
      ]
    },
    {
      "cell_type": "code",
      "execution_count": 5,
      "metadata": {
        "colab": {
          "base_uri": "https://localhost:8080/"
        },
        "id": "MtKskTzbCLaU",
        "outputId": "74b17c83-81ff-4f30-b32c-6830734ff4de"
      },
      "outputs": [
        {
          "output_type": "stream",
          "name": "stdout",
          "text": [
            "Count of all characters in computational methods is : Counter({'o': 3, 't': 3, 'm': 2, 'a': 2, 'c': 1, 'p': 1, 'u': 1, 'i': 1, 'n': 1, 'l': 1, ' ': 1, 'e': 1, 'h': 1, 'd': 1, 's': 1})\n"
          ]
        }
      ],
      "source": [
        "# to count number of characters in string and sorting ascending order\n",
        "from collections import Counter\n",
        "string = \"computational methods\"\n",
        "res = Counter(string)\n",
        "print(\"Count of all characters in computational methods is :\",(res))\n"
      ]
    },
    {
      "cell_type": "markdown",
      "metadata": {
        "id": "55W9AMdXCSpV"
      },
      "source": [
        "(3) Write a Python program to sum all the items in a list. (4 points)"
      ]
    },
    {
      "cell_type": "code",
      "execution_count": 4,
      "metadata": {
        "colab": {
          "base_uri": "https://localhost:8080/"
        },
        "id": "I57NXsauCec2",
        "outputId": "142137f7-8d6b-4b3e-cb06-2606f7c14894"
      },
      "outputs": [
        {
          "output_type": "stream",
          "name": "stdout",
          "text": [
            "The sum of all numbers: 177\n"
          ]
        }
      ],
      "source": [
        "# using in built function\n",
        "x =[14,23,54,86]\n",
        "sum(x)\n",
        "print(\"The sum of all numbers:\",sum(x))"
      ]
    },
    {
      "cell_type": "markdown",
      "metadata": {
        "id": "4ulBZ6yhCi9F"
      },
      "source": [
        "(4) Write a Python program to get a string from a given string where all occurrences of its first char have been changed to '\\$', except the first char itself. (4 points)\n",
        "\n",
        "Sample String : 'restart‘, \n",
        "\n",
        "Expected Result : 'resta\\$t'"
      ]
    },
    {
      "cell_type": "code",
      "execution_count": 2,
      "metadata": {
        "colab": {
          "base_uri": "https://localhost:8080/"
        },
        "id": "Fj0XhwbBCw2o",
        "outputId": "1e38ea98-0015-45f0-cb7c-15b82e523163"
      },
      "outputs": [
        {
          "output_type": "stream",
          "name": "stdout",
          "text": [
            "String given: witch with sandwich\n",
            "String After: witch $ith sand$ich\n"
          ]
        }
      ],
      "source": [
        "from ctypes import c_char\n",
        "# to replace all char with $ except first\n",
        "str = \"witch with sandwich\"\n",
        "print(\"String given:\",str)\n",
        "char = str[0]\n",
        "str = str.replace(char,\"$\")\n",
        "str = char + str[1:]\n",
        "print(\"String After:\",str)"
      ]
    },
    {
      "cell_type": "markdown",
      "metadata": {
        "id": "_bIP7s1MCzue"
      },
      "source": [
        "(5) Write a program with python which could accept two parameter a and b to calculate and output the result of S, where \n",
        "\n",
        "$\\ S=3.14*(1+a/b)^3$ (4 points)\n",
        "\n"
      ]
    },
    {
      "cell_type": "code",
      "execution_count": 8,
      "metadata": {
        "colab": {
          "base_uri": "https://localhost:8080/"
        },
        "id": "w79QilHXD3Mg",
        "outputId": "5a2b44fb-c5e5-4a2d-beb2-1fc691cc3827"
      },
      "outputs": [
        {
          "output_type": "stream",
          "name": "stdout",
          "text": [
            "18.312480000000004\n",
            "The result of S: 18.312480000000004\n"
          ]
        }
      ],
      "source": [
        "# given parameters a,b to calculate in given formula\n",
        "a = 4\n",
        "b = 5\n",
        "S = 3.14*(1+a/b)**3\n",
        "print(S)\n",
        "print(\"The result of S:\",S)\n"
      ]
    },
    {
      "cell_type": "markdown",
      "metadata": {
        "id": "xCa2bK9aD4Q3"
      },
      "source": [
        "(6) Write a Python program to concatenate following dictionaries to create a new one. (4 points)\n",
        "\n",
        "Sample Dictionary : dic1={1:10, 2:20}, dic2={3:30, 4:40}, dic3={5:50,6:60}, \n",
        "\n",
        "Expected Result : {1: 10, 2: 20, 3: 30, 4: 40, 5: 50, 6: 60}\n"
      ]
    },
    {
      "cell_type": "code",
      "execution_count": 30,
      "metadata": {
        "colab": {
          "base_uri": "https://localhost:8080/"
        },
        "id": "_z4aLqAbEET1",
        "outputId": "7daaf00b-eb63-47fc-b641-5fc391bae4d3"
      },
      "outputs": [
        {
          "output_type": "stream",
          "name": "stdout",
          "text": [
            "{'A': 1, 'B': 2, 'C': 3, 'D': 4, 'E': 5, 'F': 6, 'G': 7, 'H': 8, 'I': 9}\n"
          ]
        }
      ],
      "source": [
        "# to concatenate created dictionaries into new one\n",
        "dict_1 = {'A':1,'B':2,'C':3}\n",
        "dict_2 = {'D':4,'E':5,'F':6}\n",
        "dict_3 = {'G':7,'H':8,'I':9}\n",
        "dict_4 = {}\n",
        "dict_4 = {**dict_1,**dict_2, **dict_3}\n",
        "print(dict_4)"
      ]
    },
    {
      "cell_type": "markdown",
      "metadata": {
        "id": "0v48Vqa7FrQh"
      },
      "source": [
        "(7) Write a Python program to check whether an element exists within a tuple. (4 points)\n"
      ]
    },
    {
      "cell_type": "code",
      "source": [
        "# to find the element in tuple\n",
        "t = (20, 44, 55, 11, 7,65)\n",
        "n = 55\n",
        "x = [i for i in t if i == n]\n",
        "print([\"yes\" if x else \"no\"])\n",
        "\n",
        "n = 6\n",
        "x = [i for i in t if i == n]\n",
        "print([\"yes\" if x else \"no\"])\n"
      ],
      "metadata": {
        "colab": {
          "base_uri": "https://localhost:8080/"
        },
        "id": "KVQq0nc_SODA",
        "outputId": "83177626-35e6-4122-924a-50e8270bf45f"
      },
      "execution_count": 18,
      "outputs": [
        {
          "output_type": "stream",
          "name": "stdout",
          "text": [
            "['yes']\n",
            "['no']\n"
          ]
        }
      ]
    },
    {
      "cell_type": "markdown",
      "source": [],
      "metadata": {
        "id": "pG52Dub9SNWS"
      }
    },
    {
      "cell_type": "code",
      "source": [],
      "metadata": {
        "id": "KS5XvbDMSMe-"
      },
      "execution_count": null,
      "outputs": []
    },
    {
      "cell_type": "markdown",
      "metadata": {
        "id": "vD5PYLMuGga_"
      },
      "source": [
        "(8) Write a Python program to find maximum and the minimum value in a set. (4 points)"
      ]
    },
    {
      "cell_type": "code",
      "execution_count": 9,
      "metadata": {
        "colab": {
          "base_uri": "https://localhost:8080/"
        },
        "id": "t0D5kdJUGjjw",
        "outputId": "2acaa05f-b001-4c7b-eadf-82c8d6558c82"
      },
      "outputs": [
        {
          "output_type": "stream",
          "name": "stdout",
          "text": [
            "94\n",
            "35\n",
            "The maximum value of set: 94\n",
            "The minimum value of set: 35\n"
          ]
        }
      ],
      "source": [
        "# to find maximum and minimum value in a set\n",
        "set = {54,72,35,42,88,94}\n",
        "print(max(set))\n",
        "print(min(set))\n",
        "print(\"The maximum value of set:\",max(set))\n",
        "print(\"The minimum value of set:\",min(set))\n"
      ]
    },
    {
      "cell_type": "markdown",
      "metadata": {
        "id": "uHkd-y5VhVWC"
      },
      "source": [
        "(9) Write a Python program to randomly divide the students in this class into six groups for term projects, each group should have at least 4 students but no more than 6 students (including 6). Here is the students list: (4 points)\n",
        "\n",
        "studnet_list = ['ja0964','sa1198','sb1357','vb0218','sc1229','kg0569','kg0470','sg1297','bg0320','fh0141','jl1252','sk1386',\n",
        "           'ak0956','sk1390','sk1458','sk1313','ak0934','vm0377','nm0618','sm1640','sm1907','gn0108','pr0353','dr0609','ms1500','aos0040','ds0814', 'av0659','nv0234','hy0232']"
      ]
    },
    {
      "cell_type": "code",
      "execution_count": 44,
      "metadata": {
        "colab": {
          "base_uri": "https://localhost:8080/"
        },
        "id": "3iGbmcOBhTwy",
        "outputId": "a31c7765-ac21-46c5-fac1-d50c24fd9604"
      },
      "outputs": [
        {
          "output_type": "stream",
          "name": "stdout",
          "text": [
            "30\n",
            "['sc1229', 'nv0234', 'av0659', 'ja0964', 'gn0108']\n",
            "['ds0814', 'ak0934', 'ms1500', 'hy0232', 'kg0569']\n",
            "['kg0470', 'vm0377', 'fh0141', 'sk1386', 'sm1907']\n",
            "['nm0618', 'sa1198', 'sk1313', 'bg0320', 'aos0040']\n",
            "['sg1297', 'sm1640', 'jl1252', 'pr0353', 'dr0609']\n",
            "['sb1357', 'sk1458', 'vb0218', 'sk1390', 'ak0956']\n"
          ]
        }
      ],
      "source": [
        "from IPython.lib.pretty import Group\n",
        "# creating six groups\n",
        "import random\n",
        "studnet_list = ['ja0964','sa1198','sb1357','vb0218','sc1229','kg0569','kg0470','sg1297','bg0320','fh0141','jl1252','sk1386', 'ak0956','sk1390','sk1458','sk1313','ak0934','vm0377','nm0618','sm1640','sm1907','gn0108','pr0353','dr0609','ms1500','aos0040','ds0814', 'av0659','nv0234','hy0232']\n",
        "x = len(studnet_list) # for number of students in list\n",
        "print(x)\n",
        "Group_lenght = x//6\n",
        "Group1 = []\n",
        "Group2 = []\n",
        "Group3 = []\n",
        "Group4 = []\n",
        "Group5 = []\n",
        "Group6 = []\n",
        "def my_function():\n",
        "  Group = []\n",
        "  for i in range(Group_lenght):\n",
        "    one = random.choice(studnet_list)\n",
        "    Group.append(one)\n",
        "    studnet_list.remove(one)\n",
        "  return Group\n",
        "Group1 = my_function()\n",
        "print(Group1)\n",
        "Group2 = my_function()\n",
        "print(Group2)\n",
        "Group3 = my_function()\n",
        "print(Group3)\n",
        "Group4 = my_function()\n",
        "print(Group4)\n",
        "Group5 = my_function()\n",
        "print(Group5)\n",
        "Group6 = my_function()\n",
        "print(Group6)"
      ]
    },
    {
      "cell_type": "markdown",
      "metadata": {
        "id": "8z5OoqulcWz-"
      },
      "source": [
        "(10) Write a Python program to find the duplicate elements in a given array of integers. Return -1 If there are no such elements. (4 points)"
      ]
    },
    {
      "cell_type": "code",
      "execution_count": 28,
      "metadata": {
        "colab": {
          "base_uri": "https://localhost:8080/"
        },
        "id": "4oe3znUkcWz_",
        "outputId": "a950b8cf-c9c5-4b40-ff20-774c53b5c65e"
      },
      "outputs": [
        {
          "output_type": "stream",
          "name": "stdout",
          "text": [
            "[3, 4]\n",
            "-1\n"
          ]
        }
      ],
      "source": [
        "#creating empty list and then checking for number in list1 and added, else added to list 2.\n",
        "def duplicate(list):\n",
        "    list1 = []\n",
        "    list2 = []\n",
        "\n",
        "    for i in list:\n",
        "      if i not in list1:\n",
        "            list1.append(i)\n",
        "      else:\n",
        "          list2.append(i)\n",
        "    if not list2 :\n",
        "      return -1\n",
        "    else:\n",
        "      return list2\n",
        "print(duplicate([7, 3, 3, 4, 4, 5]))\n",
        "print(duplicate([9,10,11,12,13]))\n"
      ]
    },
    {
      "cell_type": "markdown",
      "metadata": {
        "id": "VH_ov68acW0A"
      },
      "source": [
        "(11) Write a Python program to select all the Sundays of a specified year. (4 extra points)"
      ]
    },
    {
      "cell_type": "code",
      "execution_count": 15,
      "metadata": {
        "colab": {
          "base_uri": "https://localhost:8080/"
        },
        "id": "McdGTdfdcW0B",
        "outputId": "20c089c2-8600-4701-a629-e27c6ff122fb"
      },
      "outputs": [
        {
          "output_type": "stream",
          "name": "stdout",
          "text": [
            "1-1-1989\n",
            "8-1-1989\n",
            "15-1-1989\n",
            "22-1-1989\n",
            "29-1-1989\n",
            "5-2-1989\n",
            "12-2-1989\n",
            "19-2-1989\n",
            "26-2-1989\n",
            "5-3-1989\n",
            "12-3-1989\n",
            "19-3-1989\n",
            "26-3-1989\n",
            "2-4-1989\n",
            "9-4-1989\n",
            "16-4-1989\n",
            "23-4-1989\n",
            "30-4-1989\n",
            "7-5-1989\n",
            "14-5-1989\n",
            "21-5-1989\n",
            "28-5-1989\n",
            "4-6-1989\n",
            "11-6-1989\n",
            "18-6-1989\n",
            "25-6-1989\n",
            "2-7-1989\n",
            "9-7-1989\n",
            "16-7-1989\n",
            "23-7-1989\n",
            "30-7-1989\n",
            "6-8-1989\n",
            "13-8-1989\n",
            "20-8-1989\n",
            "27-8-1989\n",
            "3-9-1989\n",
            "10-9-1989\n",
            "17-9-1989\n",
            "24-9-1989\n",
            "1-10-1989\n",
            "8-10-1989\n",
            "15-10-1989\n",
            "22-10-1989\n",
            "29-10-1989\n",
            "5-11-1989\n",
            "12-11-1989\n",
            "19-11-1989\n",
            "26-11-1989\n",
            "3-12-1989\n",
            "10-12-1989\n",
            "17-12-1989\n",
            "24-12-1989\n",
            "31-12-1989\n"
          ]
        }
      ],
      "source": [
        "# finding the sundays of year 1989\n",
        "from datetime import date\n",
        "import calendar\n",
        "year = 1989\n",
        "cal = calendar.TextCalendar()\n",
        "\n",
        "for month in range(1,13):                 # given months 1 to 12\n",
        "  for i in cal.itermonthdays(year,month): # for iteration in given year and all months\n",
        "      if i != 0:\n",
        "        day = date(year,month,i)\n",
        "        if day.weekday () == 6 :          #indexing from monday=0 and for sunday is 6\n",
        "            #print(year,month,i)           # for only number \n",
        "            print(\"%s-%s-%s\"% (i,month,year))  #to separate by - in date  "
      ]
    }
  ],
  "metadata": {
    "colab": {
      "provenance": [],
      "include_colab_link": true
    },
    "kernelspec": {
      "display_name": "Python 3 (ipykernel)",
      "language": "python",
      "name": "python3"
    },
    "language_info": {
      "codemirror_mode": {
        "name": "ipython",
        "version": 3
      },
      "file_extension": ".py",
      "mimetype": "text/x-python",
      "name": "python",
      "nbconvert_exporter": "python",
      "pygments_lexer": "ipython3",
      "version": "3.9.12"
    }
  },
  "nbformat": 4,
  "nbformat_minor": 0
}