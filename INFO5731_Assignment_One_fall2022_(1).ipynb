{
  "cells": [
    {
      "cell_type": "markdown",
      "metadata": {
        "id": "view-in-github",
        "colab_type": "text"
      },
      "source": [
        "<a href=\"https://colab.research.google.com/github/MahithaPoduvu/Mahitha_INFO5731_-Spring2023/blob/main/INFO5731_Assignment_One_fall2022_(1).ipynb\" target=\"_parent\"><img src=\"https://colab.research.google.com/assets/colab-badge.svg\" alt=\"Open In Colab\"/></a>"
      ]
    },
    {
      "cell_type": "markdown",
      "metadata": {
        "id": "Ryk8D1Q4Wsrp"
      },
      "source": [
        "# **INFO5731 Assignment One**"
      ]
    },
    {
      "cell_type": "markdown",
      "metadata": {
        "id": "90_NR8c5XGWc"
      },
      "source": [
        "# Question 1\n",
        "\n",
        "(20 points). Write a Python program to generate 12 random numbers between 1 and 100. Sort the list of numbers in ascending order and print it out. Sort the list of numbers in descending order and print it out. Calculate the average for the group and print it out."
      ]
    },
    {
      "cell_type": "code",
      "execution_count": 6,
      "metadata": {
        "colab": {
          "base_uri": "https://localhost:8080/"
        },
        "id": "5QX6bJjGWXY9",
        "outputId": "c5a395bc-c0f0-459c-d664-455be11d0854"
      },
      "outputs": [
        {
          "output_type": "stream",
          "name": "stdout",
          "text": [
            "[77, 51, 6, 78, 79, 32, 89, 3, 11, 83, 39, 2, 56]\n",
            "The numbers in ascending order: [2, 3, 6, 11, 32, 39, 51, 56, 77, 78, 79, 83, 89]\n",
            "The numbers in descending order: [89, 83, 79, 78, 77, 56, 51, 39, 32, 11, 6, 3, 2]\n",
            "606\n",
            "The average of numbers: 46.61538461538461\n"
          ]
        }
      ],
      "source": [
        "# To generate the 12 random numbers from 1 to 100.\n",
        "import random\n",
        "numlist = random.sample(range(1,100),13)\n",
        "print (numlist)\n",
        "# to sort the numbers in ascending order\n",
        "numlist.sort()\n",
        "print(\"The numbers in ascending order:\",numlist)\n",
        "#to sort the numbers in descending order\n",
        "numlist.sort(reverse=True)\n",
        "print(\"The numbers in descending order:\",numlist)\n",
        "#Average of all numbers\n",
        "sum(numlist)\n",
        "print(sum(numlist))\n",
        "average = sum(numlist)/len(numlist)\n",
        "print(\"The average of numbers:\",average)\n",
        "\n",
        "\n"
      ]
    },
    {
      "cell_type": "code",
      "execution_count": 41,
      "metadata": {
        "colab": {
          "base_uri": "https://localhost:8080/"
        },
        "id": "Y0oOSlsOS0cq",
        "outputId": "cd988ea5-68fb-4228-c048-20ceec2331d4"
      },
      "outputs": [
        {
          "output_type": "stream",
          "name": "stdout",
          "text": [
            "first sentence:Alas! Am I alive? This is my first python program\n",
            "second sentence:Alas! Am I alive? This is my first python program\n",
            "Alas! Am I alive? This is my first python programAlas! Am I alive? This is my first python program\n",
            "['Alas!', 'Am', 'I', 'alive?', 'This', 'is', 'my', 'first', 'python', 'programAlas!', 'Am', 'I', 'alive?', 'This', 'is', 'my', 'first', 'python', 'program']\n",
            "['Alas!', 'Am', 'I', 'alive?', 'This', 'is', 'my', 'first', 'python', 'program']\n",
            "Alas Am I alive? This is my first python programAlas Am I alive? This is my first python program\n",
            "a : 10\n",
            "e : 2\n",
            "i : 10\n",
            "o : 4\n",
            "u : 0\n"
          ]
        }
      ],
      "source": [
        "import string\n",
        "from typing import Collection\n",
        "from IPython.core.debugger import strip_indentation\n",
        "# to enter two sentences\n",
        "strng1 = input (\"first sentence:\") # string: Hi !, what is your name?.\n",
        "strng2 = input (\"second sentence:\") # string I entered here is : My name is Mahitha@.\n",
        "print(strng1 + strng2)\n",
        "# to make sentence into list.\n",
        "strng3 = strng1 + strng2\n",
        "words = strng3.split()\n",
        "print(words)\n",
        "# common words in both sentences.\n",
        "a = strng1.split()\n",
        "b = strng2.split()\n",
        "common_words = []\n",
        "for i in a:\n",
        "  if i in b:\n",
        "    common_words.append(i)\n",
        "print(common_words)\n",
        "\n",
        "# to remove punctuation\n",
        "punctuation = \"!#@$:;.,\"\n",
        "no_punctuation=\"\"\n",
        "for char in strng3:\n",
        "  if char not in punctuation:\n",
        "    no_punctuation= no_punctuation + char;\n",
        "print(no_punctuation)\n",
        "\n",
        "# to count number of vowels \n",
        "from collections import Counter\n",
        "strng4 = strng3.lower()\n",
        "vowels = \"aeiou\"\n",
        "res = Counter(strng4)\n",
        "for char in vowels:\n",
        "  print(char, \":\" ,res[char])\n",
        "\n",
        "\n",
        "\n",
        "\n",
        "\n"
      ]
    },
    {
      "cell_type": "markdown",
      "metadata": {
        "id": "1F_PZdH9Sh49"
      },
      "source": [
        "# Question 2\n",
        "(25 points). Write a program that will do the following string formatting tasks:\n",
        "\n",
        "(1) Ask the user to enter two sentences.\n",
        "\n",
        "(2) Make each sentence into a list. Each element in the list should correspond to a word in the sentence. For example, if the sentence is \"Alas! Am I alive? This is my first python program\", the program should print out ['Alas, '!', 'Am', 'I', 'alive, '?', 'This', 'is', 'my', 'first', 'python', 'program'].\n",
        "\n",
        "(3) Compare the two sentences. Print out a list of words that occur in both sentences.\n",
        "\n",
        "(4) Remove any punctuation from the sentence and print it back out. It should remove at least the following characters, but it can remove more: period(“.”), comma (“,”), semicolon (“;”), and colon (“:”)\n",
        "\n",
        "(5) Count the number of vowels in the sentences. Print out each vowel and the number of times it appears in the sentences, such as: a:2, e:1, i:0, etc"
      ]
    },
    {
      "cell_type": "markdown",
      "metadata": {
        "id": "CmFoI4jDS9nx"
      },
      "source": [
        "# Question 3 \n",
        "\n",
        "(15 points). The formula that describes the volume V of a sphere with radius r is the following:\n",
        "\n",
        "$ V=\\frac{4}{3}\\ast\\ \\pi\\ast\\ r^3 $\n",
        "\n",
        "Write a program to calculate the value of V when r is in the range of 1–10. Output the result in the following format:\n",
        "\n",
        "\tr\tV\n",
        "\t1\t…\n",
        "\t2\t…\n",
        "\t3\t…\n"
      ]
    },
    {
      "cell_type": "code",
      "execution_count": 46,
      "metadata": {
        "colab": {
          "base_uri": "https://localhost:8080/"
        },
        "id": "pEyqeioAT95b",
        "outputId": "38101383-8290-4b22-af34-a44ede59594b"
      },
      "outputs": [
        {
          "output_type": "stream",
          "name": "stdout",
          "text": [
            "r \t V\n",
            "1 \t 4.188\n",
            "2 \t 33.504\n",
            "3 \t 113.076\n",
            "4 \t 268.032\n",
            "5 \t 523.5\n",
            "6 \t 904.608\n",
            "7 \t 1436.484\n",
            "8 \t 2144.256\n",
            "9 \t 3053.0519999999997\n",
            "10 \t 4188.0\n"
          ]
        }
      ],
      "source": [
        "# To calculate the volume of sphere\n",
        "print(\"r\",\"\\t\",\"V\")\n",
        "for radius in range (1,11):\n",
        "  pi = 3.141\n",
        "  r = radius\n",
        "  Volume  = 4.0/3.0 * pi * r **3\n",
        "  print (r,\"\\t\",Volume)\n",
        "\n",
        "\n"
      ]
    },
    {
      "cell_type": "markdown",
      "metadata": {
        "id": "z3tBE7E-Xn5X"
      },
      "source": [
        "# Question 4\n",
        "\n",
        "(40 points). In the field of Data Science, data is often formatted as a comma-delimited (CSV) file, where each line in a file corresponds to a field's value. Refer to Chapter 9 (p. 106) for more information on comma-delimited files. To answer this question, you will need to download the file [Assignment1_denton_housing.csv](https://raw.githubusercontent.com/unt-iialab/info5731-spring2022/main/assignments/Assignment1_denton_housing.csv) included with this assignment. The file [Assignment1_denton_housing.csv](https://raw.githubusercontent.com/unt-iialab/info5731-spring2022/main/assignments/Assignment1_denton_housing.csv) contains statistics about housing in the city of Denton from 2008 to 2014. Write a program to implement the following questions.\n",
        "\n",
        "(1) (10 pts) Calculate the difference in the number of Occupied Housing Units from year to year and print it. The difference must be calculated for the consecutive years such as 2008-2009, 2009-2010 etc. Finally, print the values in the ascending order.\n",
        "\n",
        "(2) (10 pts) For all the years, calculate the percentage of housing units which are vacant an occupied. Print the results in the following format:\n",
        "\n",
        "Year Vacant Housing Units Occupied Housing Units\n",
        "\n",
        "    2008  30%   70%                          \n",
        "\t2009 ----- -----\n",
        "\t2010 ----- -----\n",
        "    2011 ----- -----\n",
        "\t2012 ----- -----\n",
        "    2013 ----- -----\n",
        "\t2014 ----- -----\n",
        "  \n",
        "  \n",
        "\n",
        "(3) (10 pts) Calculate and print the valued and years in which the highest number of housing units were vacant and occupied. Print the results in the following format:  \n",
        "\n",
        "                              Year\tValue\n",
        "\tVacant Housing Units\t  -----   -----\n",
        "\tOccupied Housing Units\t-----   -----\n",
        "\n",
        "(4) (10 pts) Calculate the harmonic mean of the total housing units and print it out. You can find the information about harmonic mean here: https://ncalculators.com/statistics/harmonic-mean-calculator.htm"
      ]
    },
    {
      "cell_type": "code",
      "execution_count": 87,
      "metadata": {
        "colab": {
          "base_uri": "https://localhost:8080/"
        },
        "id": "lqGYuHBhcsRH",
        "outputId": "433d41ea-d1e2-4210-c893-25f0efa117a0"
      },
      "outputs": [
        {
          "output_type": "stream",
          "name": "stdout",
          "text": [
            "0   NaN\n",
            "1   NaN\n",
            "2   NaN\n",
            "3   NaN\n",
            "4   NaN\n",
            "5   NaN\n",
            "6   NaN\n",
            "Name: percent of vacant, dtype: float64 0   NaN\n",
            "1   NaN\n",
            "2   NaN\n",
            "3   NaN\n",
            "4   NaN\n",
            "5   NaN\n",
            "6   NaN\n",
            "Name: percent of occupied, dtype: float64\n",
            "0   NaN\n",
            "1   NaN\n",
            "2   NaN\n",
            "3   NaN\n",
            "4   NaN\n",
            "5   NaN\n",
            "6   NaN\n",
            "Name: percent of vacant, dtype: float64 0   NaN\n",
            "1   NaN\n",
            "2   NaN\n",
            "3   NaN\n",
            "4   NaN\n",
            "5   NaN\n",
            "6   NaN\n",
            "Name: percent of occupied, dtype: float64\n",
            "0   NaN\n",
            "1   NaN\n",
            "2   NaN\n",
            "3   NaN\n",
            "4   NaN\n",
            "5   NaN\n",
            "6   NaN\n",
            "Name: percent of vacant, dtype: float64 0   NaN\n",
            "1   NaN\n",
            "2   NaN\n",
            "3   NaN\n",
            "4   NaN\n",
            "5   NaN\n",
            "6   NaN\n",
            "Name: percent of occupied, dtype: float64\n",
            "0   NaN\n",
            "1   NaN\n",
            "2   NaN\n",
            "3   NaN\n",
            "4   NaN\n",
            "5   NaN\n",
            "6   NaN\n",
            "Name: percent of vacant, dtype: float64 0   NaN\n",
            "1   NaN\n",
            "2   NaN\n",
            "3   NaN\n",
            "4   NaN\n",
            "5   NaN\n",
            "6   NaN\n",
            "Name: percent of occupied, dtype: float64\n",
            "0   NaN\n",
            "1   NaN\n",
            "2   NaN\n",
            "3   NaN\n",
            "4   NaN\n",
            "5   NaN\n",
            "6   NaN\n",
            "Name: percent of vacant, dtype: float64 0   NaN\n",
            "1   NaN\n",
            "2   NaN\n",
            "3   NaN\n",
            "4   NaN\n",
            "5   NaN\n",
            "6   NaN\n",
            "Name: percent of occupied, dtype: float64\n",
            "0   NaN\n",
            "1   NaN\n",
            "2   NaN\n",
            "3   NaN\n",
            "4   NaN\n",
            "5   NaN\n",
            "6   NaN\n",
            "Name: percent of vacant, dtype: float64 0   NaN\n",
            "1   NaN\n",
            "2   NaN\n",
            "3   NaN\n",
            "4   NaN\n",
            "5   NaN\n",
            "6   NaN\n",
            "Name: percent of occupied, dtype: float64\n",
            "0   NaN\n",
            "1   NaN\n",
            "2   NaN\n",
            "3   NaN\n",
            "4   NaN\n",
            "5   NaN\n",
            "6   NaN\n",
            "Name: percent of vacant, dtype: float64 0   NaN\n",
            "1   NaN\n",
            "2   NaN\n",
            "3   NaN\n",
            "4   NaN\n",
            "5   NaN\n",
            "6   NaN\n",
            "Name: percent of occupied, dtype: float64\n",
            "    year           title_field  value\n",
            "1   2014  Vacant Housing Units   2814\n",
            "4   2013  Vacant Housing Units   4215\n",
            "7   2012  Vacant Housing Units   3013\n",
            "10  2011  Vacant Housing Units   4213\n",
            "13  2010  Vacant Housing Units   3635\n",
            "16  2009  Vacant Housing Units   3583\n",
            "19  2008  Vacant Housing Units   4483\n",
            "2008 4483\n",
            "    year             title_field  value\n",
            "2   2014  Occupied Housing Units  46295\n",
            "5   2013  Occupied Housing Units  43673\n",
            "8   2012  Occupied Housing Units  42108\n",
            "11  2011  Occupied Housing Units  40704\n",
            "14  2010  Occupied Housing Units  41007\n",
            "17  2009  Occupied Housing Units  35916\n",
            "20  2008  Occupied Housing Units  36711\n",
            "2014 46295\n"
          ]
        },
        {
          "output_type": "stream",
          "name": "stderr",
          "text": [
            "<ipython-input-87-401b753ec72d>:35: RuntimeWarning: invalid value encountered in double_scalars\n",
            "  house_df['percent of vacant'] = house_df['vacant'][i]*100// house_df['total'] [i]\n",
            "<ipython-input-87-401b753ec72d>:36: RuntimeWarning: invalid value encountered in double_scalars\n",
            "  house_df['percent of occupied'] = house_df['occupied'][i]*100// house_df['total'] [i]\n"
          ]
        }
      ],
      "source": [
        "from pickle import FALSE\n",
        "# (1) (10 pts) Calculate the difference in the number of Occupied Housing Units from year to year and print it. The difference must be calculated for the consecutive years such as 2008-2009, 2009-2010 etc. Finally, print the values in the ascending order.\n",
        "\n",
        "#from google.colab import files  # to upload the file in google collab\n",
        "#uploaded = files.upload()\n",
        "\n",
        "import pandas as pd      #import pandas to read the file\n",
        "import io\n",
        "\n",
        "data = pd.read_csv(io.BytesIO(uploaded['denton_housing.csv']))\n",
        "#print(data)\n",
        "\n",
        "houses_occupied = data[data['title_field']=='Occupied Housing Units'].sort_values(by=[\"year\"])\n",
        "#print(houses_occupied)\n",
        "\n",
        "#for i in range(len(houses_occupied)-1):\n",
        "  #print(houses_occupied.iloc[i, 2]-houses_occupied.iloc[i+1,2])\n",
        "\n",
        "\n",
        "#(2) (10 pts) For all the years, calculate the percentage of housing units which are vacant an occupied. Print the results in the following format:\n",
        "\n",
        "house_year = sorted(list(data['year'].unique())) \n",
        "houses_occupied  = data[data['title_field']=='Occupied Housing Units'].sort_values(by=[\"year\"])\n",
        "houses_vacant = data[data['title_field']=='Vacant Housing Units'].sort_values(by=[\"year\"])\n",
        "houses_total = data[data['title_field']=='Total Housing Units'].sort_values(by=[\"year\"])\n",
        "\n",
        "house_df = pd.DataFrame()\n",
        "house_df['year'] = house_year\n",
        "house_df['occupied'] = houses_occupied.value\n",
        "house_df['vacant'] = houses_vacant.value\n",
        "house_df['total'] = houses_total.value\n",
        "\n",
        "#data[data['title_field']=='Total Housing Units', data['title_field']=='Vacant Housing Units',data['title_field']=='Occupied Housing Units'].sort_values(by=[\"year\"])\n",
        "for i in range(len(house_year)):\n",
        "  house_df['percent of vacant'] = house_df['vacant'][i]*100// house_df['total'] [i]\n",
        "  house_df['percent of occupied'] = house_df['occupied'][i]*100// house_df['total'] [i]\n",
        "  print(house_df['percent of vacant'],house_df['percent of occupied'])\n",
        "\n",
        "                                                                                                                                                                     \n",
        "\n",
        "\n",
        "\n",
        "\n",
        "\n",
        "\n",
        "\n",
        "#(3) (10 pts) Calculate and print the valued and years in which the highest number of housing units were vacant and occupied. Print the results in the following format:\n",
        "#to find the highest number of housing units which are vacant.\n",
        "\n",
        "vacant_houses= data[data['title_field']=='Vacant Housing Units'] # to get vacant housing unit values\n",
        "print(vacant_houses)\n",
        "print((data[data['value']==(vacant_houses['value'].max())].year).to_string(index=False), vacant_houses['value'].max()) #index= flase is given not to print the serial numbers\n",
        "\n",
        "#to find the highest number of occupied houses\n",
        "occupied_houses= data[data['title_field']=='Occupied Housing Units'] # to get occupied housing unit values\n",
        "print(occupied_houses)\n",
        "print((data[data['value']==(occupied_houses['value'].max())].year).to_string(index=False), occupied_houses['value'].max()) #index= flase is given not to print the serial numbers\n",
        "\n",
        "\n",
        "\n",
        "#(4) (10 pts) Calculate the harmonic mean of the total housing units and print it out. You can find the information about harmonic mean here:\n",
        "import statistics\n",
        "\n",
        "#print(data['title_field']=='Total Housing Units') #to check the total housing units in denton housing data.\n",
        "#print(data[data['title_field']=='Total Housing Units'].value) #to print the total housing unit values in denton housing data.\n",
        "#print(list(data[data['title_field']=='Total Housing Units'].value)) # to list the total housing unit values. \n",
        "#print(statistics.harmonic_mean(list(data[data['title_field']=='Total Housing Units'].value))) # to find the harmonic mean of the total housing unit values.\n",
        "\n",
        "\n",
        "\n",
        "\n",
        "\n"
      ]
    }
  ],
  "metadata": {
    "colab": {
      "provenance": [],
      "include_colab_link": true
    },
    "kernelspec": {
      "display_name": "Python 3 (ipykernel)",
      "language": "python",
      "name": "python3"
    },
    "language_info": {
      "codemirror_mode": {
        "name": "ipython",
        "version": 3
      },
      "file_extension": ".py",
      "mimetype": "text/x-python",
      "name": "python",
      "nbconvert_exporter": "python",
      "pygments_lexer": "ipython3",
      "version": "3.9.12"
    }
  },
  "nbformat": 4,
  "nbformat_minor": 0
}